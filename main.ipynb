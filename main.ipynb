{
 "cells": [
  {
   "cell_type": "code",
   "execution_count": 9,
   "metadata": {},
   "outputs": [],
   "source": [
    "import numpy as np\n",
    "import pandas as pd\n",
    "from scipy.signal import find_peaks\n",
    "from scipy import signal\n",
    "\n",
    "import os\n",
    "from glob import glob"
   ]
  },
  {
   "attachments": {},
   "cell_type": "markdown",
   "metadata": {},
   "source": [
    "Folder Paths"
   ]
  },
  {
   "cell_type": "code",
   "execution_count": 10,
   "metadata": {},
   "outputs": [],
   "source": [
    "greenPath = './ppg_GREEN/'\n",
    "redPath = './ppg_RED/'\n",
    "irPath = './ppg_IR/'"
   ]
  },
  {
   "attachments": {},
   "cell_type": "markdown",
   "metadata": {},
   "source": [
    "BandPass"
   ]
  },
  {
   "cell_type": "code",
   "execution_count": 11,
   "metadata": {},
   "outputs": [],
   "source": [
    "# BandPass Filter Parameters\n",
    "\n",
    "sampling_freq = 100 # Hz\n",
    "\n",
    "lowcut = 0.5                         # Lower Cutoff Frequency in Hz\n",
    "highcut = 35.0                       # Higher Cutoff Frequency in Hz\n",
    "nyquist_freq = 0.5 * sampling_freq   # Nyquist frequency in Hz\n",
    "order = 4                            # Filter order\n",
    "\n",
    "# Design Bandpass Filter\n",
    "b, a = signal.butter(order, [lowcut / nyquist_freq, highcut / nyquist_freq], btype='band')"
   ]
  },
  {
   "cell_type": "code",
   "execution_count": 16,
   "metadata": {},
   "outputs": [
    {
     "name": "stdout",
     "output_type": "stream",
     "text": [
      "---------------------------------------------------\n"
     ]
    },
    {
     "ename": "ZeroDivisionError",
     "evalue": "division by zero",
     "output_type": "error",
     "traceback": [
      "\u001b[1;31m---------------------------------------------------------------------------\u001b[0m",
      "\u001b[1;31mZeroDivisionError\u001b[0m                         Traceback (most recent call last)",
      "Cell \u001b[1;32mIn[16], line 35\u001b[0m\n\u001b[0;32m     32\u001b[0m     \u001b[39mprint\u001b[39m(\u001b[39mf\u001b[39m\u001b[39m'\u001b[39m\u001b[39mAC Component of \u001b[39m\u001b[39m{\u001b[39;00mfile\u001b[39m}\u001b[39;00m\u001b[39m : \u001b[39m\u001b[39m{\u001b[39;00mac_component\u001b[39m}\u001b[39;00m\u001b[39m'\u001b[39m)\n\u001b[0;32m     34\u001b[0m \u001b[39mprint\u001b[39m(\u001b[39m'\u001b[39m\u001b[39m---------------------------------------------------\u001b[39m\u001b[39m'\u001b[39m)\n\u001b[1;32m---> 35\u001b[0m \u001b[39mprint\u001b[39m(\u001b[39mf\u001b[39m\u001b[39m'\u001b[39m\u001b[39mAverage AC Component of Trials using Bandpass is : \u001b[39m\u001b[39m{\u001b[39;00mavgAC\u001b[39m \u001b[39;49m\u001b[39m/\u001b[39;49m\u001b[39m \u001b[39;49mnumOfFiles\u001b[39m}\u001b[39;00m\u001b[39m'\u001b[39m)\n",
      "\u001b[1;31mZeroDivisionError\u001b[0m: division by zero"
     ]
    }
   ],
   "source": [
    "# Average AC Component of Trials\n",
    "avgAC = 0\n",
    "numOfFiles = 0\n",
    "\n",
    "for file in glob(redPath + '*.csv'):\n",
    "    numOfFiles += 1\n",
    "    ppg_data = pd.read_csv(file)\n",
    "    noisy_ppgOne = ppg_data[\"PPG1\"].values\n",
    "    # Apply BandPass Filter to noisy ECG Signal\n",
    "    filtered_ppg_1 = signal.filtfilt(b, a, noisy_ppgOne)\n",
    "\n",
    "    # Baseline Correction\n",
    "    baseline_ppg_1 = signal.medfilt(filtered_ppg_1, kernel_size=51)  # Apply a median filter as a baseline\n",
    "    corrected_ppg_1 = filtered_ppg_1 - baseline_ppg_1\n",
    "\n",
    "    # Smoothing\n",
    "    smoothed_ppg_1 = signal.savgol_filter(corrected_ppg_1, window_length=51, polyorder=3)\n",
    "\n",
    "    # Remove the DC Component\n",
    "    dc_component = np.mean(smoothed_ppg_1)\n",
    "    ppg_ac= smoothed_ppg_1 - dc_component\n",
    "\n",
    "    # Calculate the AC Component\n",
    "    peaks, _ = find_peaks(ppg_ac)  # Adjust height threshold as needed\n",
    "    troughs, _ = find_peaks(-ppg_ac)  # Detect troughs by inverting signal\n",
    "    ac_component = ppg_ac[peaks].mean() - ppg_ac[troughs].mean()\n",
    "\n",
    "    # Add to avg\n",
    "    avgAC += ac_component\n",
    "\n",
    "    # Print the AC Component for trial\n",
    "    print(f'AC Component of {file} : {ac_component}')\n",
    "\n",
    "print('---------------------------------------------------')\n",
    "print(f'Average AC Component of Trials using Bandpass is : {avgAC / numOfFiles}')\n"
   ]
  },
  {
   "cell_type": "code",
   "execution_count": null,
   "metadata": {},
   "outputs": [],
   "source": []
  }
 ],
 "metadata": {
  "kernelspec": {
   "display_name": "Python 3",
   "language": "python",
   "name": "python3"
  },
  "language_info": {
   "codemirror_mode": {
    "name": "ipython",
    "version": 3
   },
   "file_extension": ".py",
   "mimetype": "text/x-python",
   "name": "python",
   "nbconvert_exporter": "python",
   "pygments_lexer": "ipython3",
   "version": "3.11.8"
  },
  "orig_nbformat": 4
 },
 "nbformat": 4,
 "nbformat_minor": 2
}
