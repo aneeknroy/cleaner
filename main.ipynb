{
 "cells": [
  {
   "cell_type": "code",
   "execution_count": 1,
   "metadata": {},
   "outputs": [],
   "source": [
    "import numpy as np\n",
    "import pandas as pd\n",
    "from scipy.signal import find_peaks\n",
    "from scipy import signal\n",
    "\n",
    "import os\n",
    "from glob import glob\n",
    "import matplotlib.pyplot as plt\n"
   ]
  },
  {
   "attachments": {},
   "cell_type": "markdown",
   "metadata": {},
   "source": [
    "Folder Paths"
   ]
  },
  {
   "cell_type": "code",
   "execution_count": 2,
   "metadata": {},
   "outputs": [],
   "source": [
    "greenPath = './ppg_GREEN/'\n",
    "redPath = './ppg_RED/'\n",
    "irPath = './ppg_IR/'"
   ]
  },
  {
   "attachments": {},
   "cell_type": "markdown",
   "metadata": {},
   "source": [
    "BandPass Filter"
   ]
  },
  {
   "cell_type": "code",
   "execution_count": 6,
   "metadata": {},
   "outputs": [],
   "source": [
    "# BandPass Filter Parameters\n",
    "\n",
    "sampling_freq = 100 # Hz\n",
    "\n",
    "lowcut = 0.5                         # Lower Cutoff Frequency in Hz\n",
    "highcut = 35.0                       # Higher Cutoff Frequency in Hz\n",
    "nyquist_freq = 0.5 * sampling_freq   # Nyquist frequency in Hz\n",
    "order = 4                            # Filter order\n",
    "\n",
    "# Design Bandpass Filter\n",
    "b, a = signal.butter(order, [lowcut / nyquist_freq, highcut / nyquist_freq], btype='band')"
   ]
  },
  {
   "attachments": {},
   "cell_type": "markdown",
   "metadata": {},
   "source": [
    "BandPass Filter : AC Component Calculation"
   ]
  },
  {
   "cell_type": "code",
   "execution_count": 7,
   "metadata": {},
   "outputs": [
    {
     "name": "stdout",
     "output_type": "stream",
     "text": [
      "BANDPASS\n",
      "\n",
      "AC Component of ./ppg_GREEN\\green1_AR.csv : 8.978241222511024\n"
     ]
    },
    {
     "ename": "TypeError",
     "evalue": "unsupported operand type(s) for -: 'str' and 'str'",
     "output_type": "error",
     "traceback": [
      "\u001b[1;31m---------------------------------------------------------------------------\u001b[0m",
      "\u001b[1;31mTypeError\u001b[0m                                 Traceback (most recent call last)",
      "Cell \u001b[1;32mIn[7], line 12\u001b[0m\n\u001b[0;32m     10\u001b[0m noisy_ppgOne \u001b[39m=\u001b[39m ppg_data[\u001b[39m\"\u001b[39m\u001b[39mPPG1\u001b[39m\u001b[39m\"\u001b[39m]\u001b[39m.\u001b[39mvalues\n\u001b[0;32m     11\u001b[0m \u001b[39m# Apply BandPass Filter to noisy ECG Signal\u001b[39;00m\n\u001b[1;32m---> 12\u001b[0m filtered_ppg_1 \u001b[39m=\u001b[39m signal\u001b[39m.\u001b[39;49mfiltfilt(b, a, noisy_ppgOne)\n\u001b[0;32m     14\u001b[0m \u001b[39m# Baseline Correction\u001b[39;00m\n\u001b[0;32m     15\u001b[0m baseline_ppg_1 \u001b[39m=\u001b[39m signal\u001b[39m.\u001b[39mmedfilt(filtered_ppg_1, kernel_size\u001b[39m=\u001b[39m\u001b[39m51\u001b[39m)  \u001b[39m# Apply a median filter as a baseline\u001b[39;00m\n",
      "File \u001b[1;32m~\\AppData\\Local\\Packages\\PythonSoftwareFoundation.Python.3.11_qbz5n2kfra8p0\\LocalCache\\local-packages\\Python311\\site-packages\\scipy\\signal\\_signaltools.py:4170\u001b[0m, in \u001b[0;36mfiltfilt\u001b[1;34m(b, a, x, axis, padtype, padlen, method, irlen)\u001b[0m\n\u001b[0;32m   4167\u001b[0m     \u001b[39mreturn\u001b[39;00m y\n\u001b[0;32m   4169\u001b[0m \u001b[39m# method == \"pad\"\u001b[39;00m\n\u001b[1;32m-> 4170\u001b[0m edge, ext \u001b[39m=\u001b[39m _validate_pad(padtype, padlen, x, axis,\n\u001b[0;32m   4171\u001b[0m                           ntaps\u001b[39m=\u001b[39;49m\u001b[39mmax\u001b[39;49m(\u001b[39mlen\u001b[39;49m(a), \u001b[39mlen\u001b[39;49m(b)))\n\u001b[0;32m   4173\u001b[0m \u001b[39m# Get the steady state of the filter's step response.\u001b[39;00m\n\u001b[0;32m   4174\u001b[0m zi \u001b[39m=\u001b[39m lfilter_zi(b, a)\n",
      "File \u001b[1;32m~\\AppData\\Local\\Packages\\PythonSoftwareFoundation.Python.3.11_qbz5n2kfra8p0\\LocalCache\\local-packages\\Python311\\site-packages\\scipy\\signal\\_signaltools.py:4229\u001b[0m, in \u001b[0;36m_validate_pad\u001b[1;34m(padtype, padlen, x, axis, ntaps)\u001b[0m\n\u001b[0;32m   4227\u001b[0m     ext \u001b[39m=\u001b[39m even_ext(x, edge, axis\u001b[39m=\u001b[39maxis)\n\u001b[0;32m   4228\u001b[0m \u001b[39melif\u001b[39;00m padtype \u001b[39m==\u001b[39m \u001b[39m'\u001b[39m\u001b[39modd\u001b[39m\u001b[39m'\u001b[39m:\n\u001b[1;32m-> 4229\u001b[0m     ext \u001b[39m=\u001b[39m odd_ext(x, edge, axis\u001b[39m=\u001b[39;49maxis)\n\u001b[0;32m   4230\u001b[0m \u001b[39melse\u001b[39;00m:\n\u001b[0;32m   4231\u001b[0m     ext \u001b[39m=\u001b[39m const_ext(x, edge, axis\u001b[39m=\u001b[39maxis)\n",
      "File \u001b[1;32m~\\AppData\\Local\\Packages\\PythonSoftwareFoundation.Python.3.11_qbz5n2kfra8p0\\LocalCache\\local-packages\\Python311\\site-packages\\scipy\\signal\\_arraytools.py:103\u001b[0m, in \u001b[0;36modd_ext\u001b[1;34m(x, n, axis)\u001b[0m\n\u001b[0;32m    101\u001b[0m right_end \u001b[39m=\u001b[39m axis_slice(x, start\u001b[39m=\u001b[39m\u001b[39m-\u001b[39m\u001b[39m1\u001b[39m, axis\u001b[39m=\u001b[39maxis)\n\u001b[0;32m    102\u001b[0m right_ext \u001b[39m=\u001b[39m axis_slice(x, start\u001b[39m=\u001b[39m\u001b[39m-\u001b[39m\u001b[39m2\u001b[39m, stop\u001b[39m=\u001b[39m\u001b[39m-\u001b[39m(n \u001b[39m+\u001b[39m \u001b[39m2\u001b[39m), step\u001b[39m=\u001b[39m\u001b[39m-\u001b[39m\u001b[39m1\u001b[39m, axis\u001b[39m=\u001b[39maxis)\n\u001b[1;32m--> 103\u001b[0m ext \u001b[39m=\u001b[39m np\u001b[39m.\u001b[39mconcatenate((\u001b[39m2\u001b[39;49m \u001b[39m*\u001b[39;49m left_end \u001b[39m-\u001b[39;49m left_ext,\n\u001b[0;32m    104\u001b[0m                       x,\n\u001b[0;32m    105\u001b[0m                       \u001b[39m2\u001b[39m \u001b[39m*\u001b[39m right_end \u001b[39m-\u001b[39m right_ext),\n\u001b[0;32m    106\u001b[0m                      axis\u001b[39m=\u001b[39maxis)\n\u001b[0;32m    107\u001b[0m \u001b[39mreturn\u001b[39;00m ext\n",
      "\u001b[1;31mTypeError\u001b[0m: unsupported operand type(s) for -: 'str' and 'str'"
     ]
    }
   ],
   "source": [
    "# Average AC Component of Trials\n",
    "avgAC = 0\n",
    "numOfFiles = 0\n",
    "\n",
    "print(\"BANDPASS\\n\")\n",
    "\n",
    "for file in glob(greenPath + '*.csv'):\n",
    "    numOfFiles += 1\n",
    "    ppg_data = pd.read_csv(file)\n",
    "    noisy_ppgOne = ppg_data[\"PPG1\"].values\n",
    "    # Apply BandPass Filter to noisy ECG Signal\n",
    "    filtered_ppg_1 = signal.filtfilt(b, a, noisy_ppgOne)\n",
    "\n",
    "    # Baseline Correction\n",
    "    baseline_ppg_1 = signal.medfilt(filtered_ppg_1, kernel_size=51)  # Apply a median filter as a baseline\n",
    "    corrected_ppg_1 = filtered_ppg_1 - baseline_ppg_1\n",
    "\n",
    "    # Smoothing\n",
    "    smoothed_ppg_1 = signal.savgol_filter(corrected_ppg_1, window_length=51, polyorder=3)\n",
    "\n",
    "    # Remove the DC Component\n",
    "    dc_component = np.mean(smoothed_ppg_1)\n",
    "    ppg_ac= smoothed_ppg_1 - dc_component\n",
    "\n",
    "    # Calculate the AC Component\n",
    "    peaks, _ = find_peaks(ppg_ac)  # Adjust height threshold as needed\n",
    "    troughs, _ = find_peaks(-ppg_ac)  # Detect troughs by inverting signal\n",
    "    ac_component = ppg_ac[peaks].mean() - ppg_ac[troughs].mean()\n",
    "\n",
    "    # Add to avg\n",
    "    avgAC += ac_component\n",
    "\n",
    "    # Print the AC Component for trial\n",
    "    print(f'AC Component of {file} : {ac_component}')\n",
    "\n",
    "print('---------------------------------------------------')\n",
    "print(f'Average AC Component of Trials using Bandpass is : {avgAC / numOfFiles}')\n"
   ]
  },
  {
   "attachments": {},
   "cell_type": "markdown",
   "metadata": {},
   "source": [
    "BandPass Filter : Perfusion Index Calculation"
   ]
  },
  {
   "cell_type": "code",
   "execution_count": 48,
   "metadata": {},
   "outputs": [
    {
     "name": "stdout",
     "output_type": "stream",
     "text": [
      "Perfusion Index of ./ppg_GREEN\\green1_AR.csv : 655.1065524190552\n",
      "Perfusion Index of ./ppg_GREEN\\green2_AR.csv : 394.56079478986703\n",
      "Perfusion Index of ./ppg_GREEN\\green3_AR.csv : 169.3737216465913\n",
      "Perfusion Index of ./ppg_GREEN\\green4_AR.csv : 619.9279339001287\n",
      "Perfusion Index of ./ppg_GREEN\\green5_AR.csv : 310.99419639327994\n",
      "---------------------------------------------------\n",
      "Average Perfusion Index of Trials using Bandpass is : 429.9926398297845\n"
     ]
    }
   ],
   "source": [
    "# Average Perfusion Index of Trials\n",
    "avgPerfusion = 0\n",
    "numOfFiles = 0\n",
    "\n",
    "print(\"BANDPASS\\n\")\n",
    "\n",
    "for file in glob(greenPath + '*.csv'):\n",
    "    numOfFiles += 1\n",
    "    ppg_data = pd.read_csv(file)\n",
    "    noisy_ppgOne = ppg_data[\"PPG1\"].values\n",
    "    # Apply BandPass Filter to noisy ECG Signal\n",
    "    filtered_ppg_1 = signal.filtfilt(b, a, noisy_ppgOne)\n",
    "\n",
    "    # Baseline Correction\n",
    "    baseline_ppg_1 = signal.medfilt(filtered_ppg_1, kernel_size=51)  # Apply a median filter as a baseline\n",
    "    corrected_ppg_1 = filtered_ppg_1 - baseline_ppg_1\n",
    "\n",
    "    # Smoothing\n",
    "    smoothed_ppg_1 = signal.savgol_filter(corrected_ppg_1, window_length=51, polyorder=3)\n",
    "\n",
    "    # Find peaks and troughs-------------------------------------------------------------------------------\n",
    "    peaks, _ = find_peaks(smoothed_ppg_1)  # Adjust height threshold as needed\n",
    "    troughs, _ = find_peaks(-smoothed_ppg_1)  # Detect troughs by inverting signal\n",
    "\n",
    "    # Calculate Pulse Amplitude\n",
    "    if len(peaks) > 0 and len(troughs) > 0:\n",
    "        pulse_amplitude = smoothed_ppg_1[peaks].mean() - smoothed_ppg_1[troughs].mean()\n",
    "    else:\n",
    "        pulse_amplitude = np.nan\n",
    "\n",
    "    # Calculate Baseline Amplitude\n",
    "    baseline_amplitude = smoothed_ppg_1.mean()\n",
    "\n",
    "    # Calculate Perfusion Index\n",
    "    if not np.isnan(pulse_amplitude) and not np.isnan(baseline_amplitude):\n",
    "        perfusion_index = (pulse_amplitude / baseline_amplitude) * 100\n",
    "    else:\n",
    "        perfusion_index = np.nan\n",
    "\n",
    "    # Add to avg\n",
    "    avgPerfusion += perfusion_index\n",
    "\n",
    "    # Print the AC Component for trial\n",
    "    print(f'Perfusion Index of {file} : {perfusion_index}')\n",
    "\n",
    "print('---------------------------------------------------')\n",
    "print(f'Average Perfusion Index of Trials using Bandpass is : {avgPerfusion / numOfFiles}')"
   ]
  },
  {
   "cell_type": "code",
   "execution_count": 59,
   "metadata": {},
   "outputs": [],
   "source": [
    "for file in glob(greenPath + '*.csv'):\n",
    "    numOfFiles += 1\n",
    "    ppg_data = pd.read_csv(file)\n",
    "    noisy_ppg_1 = ppg_data[\"PPG1\"].values\n",
    "    # Apply BandPass Filter to noisy ECG Signal\n",
    "    filtered_ppg_1 = signal.filtfilt(b, a, noisy_ppgOne)\n",
    "\n",
    "    # Baseline Correction\n",
    "    baseline_ppg_1 = signal.medfilt(filtered_ppg_1, kernel_size=51)  # Apply a median filter as a baseline\n",
    "    corrected_ppg_1 = filtered_ppg_1 - baseline_ppg_1\n",
    "\n",
    "    # Smoothing\n",
    "    smoothed_ppg_1 = signal.savgol_filter(corrected_ppg_1, window_length=51, polyorder=3)\n",
    "    # Create a figure with subplots\n",
    "    #fig, axs = plt.subplots(3, 1, figsize=(12, 10))\n",
    "\n",
    "    # PPG 1\n",
    "    # Plot original and filtered signals\n",
    "    # axs[0].plot(ppg_data[\"VAL\"], noisy_ppg_1, color='blue', label='Original PPG1')\n",
    "    # axs[0].set_title('BANDPASS Original - PPG1 Signal')\n",
    "    # axs[0].set_xlabel('Val (s)')\n",
    "    # axs[0].set_ylabel('Amplitude')\n",
    "    # axs[0].grid(True)\n",
    "\n",
    "\n",
    "    # axs[1].plot(ppg_data[\"VAL\"], filtered_ppg_1, color='green', label='Filtered PPG1')\n",
    "    # axs[1].set_xlabel('Val (s)')\n",
    "    # axs[1].set_ylabel('Amplitude')\n",
    "    # axs[1].set_title('BANDPASS filtered - PPG1 Signal')\n",
    "    # axs[1].grid(True)\n",
    "\n",
    "    # # Plot original and filtered signals\n",
    "    # axs[2].plot(ppg_data[\"VAL\"], smoothed_ppg_1, color='purple', label='Corrected & Smoothed PPG1')\n",
    "    # axs[2].set_title('BANDPASS Corrected & Smoothed - PPG1 Signal')\n",
    "    # axs[2].set_xlabel('Val (s)')\n",
    "    # axs[2].set_ylabel('Amplitude')\n",
    "    # axs[2].grid(True)\n",
    "\n",
    "    # Show the plot\n",
    "    # plt.tight_layout()  # Adjust subplots to prevent overlap\n",
    "    # plt.show()\n"
   ]
  },
  {
   "attachments": {},
   "cell_type": "markdown",
   "metadata": {},
   "source": [
    "Highpass Filter"
   ]
  },
  {
   "cell_type": "code",
   "execution_count": 60,
   "metadata": {},
   "outputs": [],
   "source": [
    "# HighPass Filter Parameters\n",
    "sampling_freq = 100 # Hz\n",
    "\n",
    "cutoff = 0.5                         # Cutoff Frequency in Hz\n",
    "nyquist_freq = 0.5 * sampling_freq   # Nyquist frequency in Hz\n",
    "order = 4                            # Filter order\n",
    "\n",
    "# Design Bandpass Filter\n",
    "b, a = signal.butter(order, cutoff / nyquist_freq, btype='high')"
   ]
  },
  {
   "attachments": {},
   "cell_type": "markdown",
   "metadata": {},
   "source": [
    "HighPass Filter : AC Component Calculation"
   ]
  },
  {
   "cell_type": "code",
   "execution_count": 61,
   "metadata": {},
   "outputs": [
    {
     "name": "stdout",
     "output_type": "stream",
     "text": [
      "HIGHPASS\n",
      "\n",
      "AC Component of ./ppg_GREEN\\green1_AR.csv : 7.733767869140594\n",
      "AC Component of ./ppg_GREEN\\green2_AR.csv : 19.87857940833772\n",
      "AC Component of ./ppg_GREEN\\green3_AR.csv : 21.372674476544386\n",
      "AC Component of ./ppg_GREEN\\green4_AR.csv : 55.17601392305688\n",
      "AC Component of ./ppg_GREEN\\green5_AR.csv : 45.3889045419254\n",
      "---------------------------------------------------\n",
      "Average AC Component of Trials using HighPass is : 29.909988043800997\n"
     ]
    }
   ],
   "source": [
    "# Average AC Component of Trials\n",
    "avgAC = 0\n",
    "numOfFiles = 0\n",
    "\n",
    "print(\"HIGHPASS\\n\")\n",
    "\n",
    "for file in glob(greenPath + '*.csv'):\n",
    "    numOfFiles += 1\n",
    "    ppg_data = pd.read_csv(file)\n",
    "    noisy_ppgOne = ppg_data[\"PPG1\"].values\n",
    "    \n",
    "    # Apply BandPass Filter to noisy ECG Signal\n",
    "    filtered_ppg_1 = signal.filtfilt(b, a, noisy_ppgOne)\n",
    "\n",
    "    # Baseline Correction\n",
    "    baseline_ppg_1 = signal.medfilt(filtered_ppg_1, kernel_size=51)  # Apply a median filter as a baseline\n",
    "    corrected_ppg_1 = filtered_ppg_1 - baseline_ppg_1\n",
    "\n",
    "    # Smoothing\n",
    "    smoothed_ppg_1 = signal.savgol_filter(corrected_ppg_1, window_length=51, polyorder=3)\n",
    "\n",
    "    # Remove the DC Component\n",
    "    dc_component = np.mean(smoothed_ppg_1)\n",
    "    ppg_ac= smoothed_ppg_1 - dc_component\n",
    "\n",
    "    # Calculate the AC Component\n",
    "    peaks, _ = find_peaks(ppg_ac)  # Adjust height threshold as needed\n",
    "    troughs, _ = find_peaks(-ppg_ac)  # Detect troughs by inverting signal\n",
    "    ac_component = ppg_ac[peaks].mean() - ppg_ac[troughs].mean()\n",
    "\n",
    "    # Add to avg\n",
    "    avgAC += ac_component\n",
    "\n",
    "    # Print the AC Component for trial\n",
    "    print(f'AC Component of {file} : {ac_component}')\n",
    "\n",
    "print('---------------------------------------------------')\n",
    "print(f'Average AC Component of Trials using HighPass is : {avgAC / numOfFiles}')\n"
   ]
  },
  {
   "attachments": {},
   "cell_type": "markdown",
   "metadata": {},
   "source": [
    "HighPass Filter : Perfusion Index Calculation"
   ]
  },
  {
   "cell_type": "code",
   "execution_count": 62,
   "metadata": {},
   "outputs": [
    {
     "name": "stdout",
     "output_type": "stream",
     "text": [
      "HIGHPASS\n",
      "\n",
      "Perfusion Index of ./ppg_GREEN\\green1_AR.csv : 538.605128061985\n",
      "Perfusion Index of ./ppg_GREEN\\green2_AR.csv : 373.0811133115464\n",
      "Perfusion Index of ./ppg_GREEN\\green3_AR.csv : 162.39730692861755\n",
      "Perfusion Index of ./ppg_GREEN\\green4_AR.csv : 530.005898154363\n",
      "Perfusion Index of ./ppg_GREEN\\green5_AR.csv : 285.95255519279965\n",
      "---------------------------------------------------\n",
      "Average Perfusion Index of Trials using HighPass is : 378.00840032986235\n"
     ]
    }
   ],
   "source": [
    "# Average Perfusion Index of Trials\n",
    "avgPerfusion = 0\n",
    "numOfFiles = 0\n",
    "\n",
    "print(\"HIGHPASS\\n\")\n",
    "\n",
    "for file in glob(greenPath + '*.csv'):\n",
    "    numOfFiles += 1\n",
    "    ppg_data = pd.read_csv(file)\n",
    "    noisy_ppgOne = ppg_data[\"PPG1\"].values\n",
    "    # Apply BandPass Filter to noisy ECG Signal\n",
    "    filtered_ppg_1 = signal.filtfilt(b, a, noisy_ppgOne)\n",
    "\n",
    "    # Baseline Correction\n",
    "    baseline_ppg_1 = signal.medfilt(filtered_ppg_1, kernel_size=51)  # Apply a median filter as a baseline\n",
    "    corrected_ppg_1 = filtered_ppg_1 - baseline_ppg_1\n",
    "\n",
    "    # Smoothing\n",
    "    smoothed_ppg_1 = signal.savgol_filter(corrected_ppg_1, window_length=51, polyorder=3)\n",
    "\n",
    "    # Find peaks and troughs-------------------------------------------------------------------------------\n",
    "    peaks, _ = find_peaks(smoothed_ppg_1)  # Adjust height threshold as needed\n",
    "    troughs, _ = find_peaks(-smoothed_ppg_1)  # Detect troughs by inverting signal\n",
    "\n",
    "    # Calculate Pulse Amplitude\n",
    "    if len(peaks) > 0 and len(troughs) > 0:\n",
    "        pulse_amplitude = smoothed_ppg_1[peaks].mean() - smoothed_ppg_1[troughs].mean()\n",
    "    else:\n",
    "        pulse_amplitude = np.nan\n",
    "\n",
    "    # Calculate Baseline Amplitude\n",
    "    baseline_amplitude = smoothed_ppg_1.mean()\n",
    "\n",
    "    # Calculate Perfusion Index\n",
    "    if not np.isnan(pulse_amplitude) and not np.isnan(baseline_amplitude):\n",
    "        perfusion_index = (pulse_amplitude / baseline_amplitude) * 100\n",
    "    else:\n",
    "        perfusion_index = np.nan\n",
    "\n",
    "    # Add to avg\n",
    "    avgPerfusion += perfusion_index\n",
    "\n",
    "    # Print the AC Component for trial\n",
    "    print(f'Perfusion Index of {file} : {perfusion_index}')\n",
    "\n",
    "print('----------------------------------------------------------------------------------')\n",
    "print(f'Average Perfusion Index of Trials using HighPass is : {avgPerfusion / numOfFiles}')"
   ]
  },
  {
   "attachments": {},
   "cell_type": "markdown",
   "metadata": {},
   "source": [
    "Convert Results to Readable Format"
   ]
  },
  {
   "attachments": {},
   "cell_type": "markdown",
   "metadata": {},
   "source": []
  }
 ],
 "metadata": {
  "kernelspec": {
   "display_name": "Python 3",
   "language": "python",
   "name": "python3"
  },
  "language_info": {
   "codemirror_mode": {
    "name": "ipython",
    "version": 3
   },
   "file_extension": ".py",
   "mimetype": "text/x-python",
   "name": "python",
   "nbconvert_exporter": "python",
   "pygments_lexer": "ipython3",
   "version": "3.11.8"
  },
  "orig_nbformat": 4
 },
 "nbformat": 4,
 "nbformat_minor": 2
}
