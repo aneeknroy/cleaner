{
 "cells": [
  {
   "cell_type": "code",
   "execution_count": 44,
   "metadata": {},
   "outputs": [],
   "source": [
    "import numpy as np\n",
    "import pandas as pd\n",
    "from scipy.signal import find_peaks\n",
    "from scipy import signal\n",
    "\n",
    "import os\n",
    "from glob import glob\n",
    "import matplotlib.pyplot as plt\n"
   ]
  },
  {
   "attachments": {},
   "cell_type": "markdown",
   "metadata": {},
   "source": [
    "Folder Paths"
   ]
  },
  {
   "cell_type": "code",
   "execution_count": 45,
   "metadata": {},
   "outputs": [],
   "source": [
    "greenPath = './ppg_GREEN/'\n",
    "redPath = './ppg_RED/'\n",
    "irPath = './ppg_IR/'"
   ]
  },
  {
   "attachments": {},
   "cell_type": "markdown",
   "metadata": {},
   "source": [
    "BandPass Filter"
   ]
  },
  {
   "cell_type": "code",
   "execution_count": 46,
   "metadata": {},
   "outputs": [],
   "source": [
    "# BandPass Filter Parameters\n",
    "\n",
    "sampling_freq = 100 # Hz\n",
    "\n",
    "lowcut = 0.5                         # Lower Cutoff Frequency in Hz\n",
    "highcut = 35.0                       # Higher Cutoff Frequency in Hz\n",
    "nyquist_freq = 0.5 * sampling_freq   # Nyquist frequency in Hz\n",
    "order = 4                            # Filter order\n",
    "\n",
    "# Design Bandpass Filter\n",
    "b, a = signal.butter(order, [lowcut / nyquist_freq, highcut / nyquist_freq], btype='band')"
   ]
  },
  {
   "attachments": {},
   "cell_type": "markdown",
   "metadata": {},
   "source": [
    "BandPass Filter : AC Component Calculation"
   ]
  },
  {
   "cell_type": "code",
   "execution_count": 47,
   "metadata": {},
   "outputs": [
    {
     "name": "stdout",
     "output_type": "stream",
     "text": [
      "AC Component of ./ppg_GREEN\\green1_AR.csv : 8.978241222511024\n",
      "AC Component of ./ppg_GREEN\\green2_AR.csv : 21.275531301550288\n",
      "AC Component of ./ppg_GREEN\\green3_AR.csv : 22.569711418914096\n",
      "AC Component of ./ppg_GREEN\\green4_AR.csv : 58.18900613314773\n",
      "AC Component of ./ppg_GREEN\\green5_AR.csv : 47.36919706579838\n",
      "---------------------------------------------------\n",
      "Average AC Component of Trials using Bandpass is : 31.6763374283843\n"
     ]
    }
   ],
   "source": [
    "# Average AC Component of Trials\n",
    "avgAC = 0\n",
    "numOfFiles = 0\n",
    "\n",
    "print(\"BANDPASS\\n\")\n",
    "\n",
    "for file in glob(greenPath + '*.csv'):\n",
    "    numOfFiles += 1\n",
    "    ppg_data = pd.read_csv(file)\n",
    "    noisy_ppgOne = ppg_data[\"PPG1\"].values\n",
    "    # Apply BandPass Filter to noisy ECG Signal\n",
    "    filtered_ppg_1 = signal.filtfilt(b, a, noisy_ppgOne)\n",
    "\n",
    "    # Baseline Correction\n",
    "    baseline_ppg_1 = signal.medfilt(filtered_ppg_1, kernel_size=51)  # Apply a median filter as a baseline\n",
    "    corrected_ppg_1 = filtered_ppg_1 - baseline_ppg_1\n",
    "\n",
    "    # Smoothing\n",
    "    smoothed_ppg_1 = signal.savgol_filter(corrected_ppg_1, window_length=51, polyorder=3)\n",
    "\n",
    "    # Remove the DC Component\n",
    "    dc_component = np.mean(smoothed_ppg_1)\n",
    "    ppg_ac= smoothed_ppg_1 - dc_component\n",
    "\n",
    "    # Calculate the AC Component\n",
    "    peaks, _ = find_peaks(ppg_ac)  # Adjust height threshold as needed\n",
    "    troughs, _ = find_peaks(-ppg_ac)  # Detect troughs by inverting signal\n",
    "    ac_component = ppg_ac[peaks].mean() - ppg_ac[troughs].mean()\n",
    "\n",
    "    # Add to avg\n",
    "    avgAC += ac_component\n",
    "\n",
    "    # Print the AC Component for trial\n",
    "    print(f'AC Component of {file} : {ac_component}')\n",
    "\n",
    "print('---------------------------------------------------')\n",
    "print(f'Average AC Component of Trials using Bandpass is : {avgAC / numOfFiles}')\n"
   ]
  },
  {
   "attachments": {},
   "cell_type": "markdown",
   "metadata": {},
   "source": [
    "BandPass Filter : Perfusion Index Calculation"
   ]
  },
  {
   "cell_type": "code",
   "execution_count": 48,
   "metadata": {},
   "outputs": [
    {
     "name": "stdout",
     "output_type": "stream",
     "text": [
      "Perfusion Index of ./ppg_GREEN\\green1_AR.csv : 655.1065524190552\n",
      "Perfusion Index of ./ppg_GREEN\\green2_AR.csv : 394.56079478986703\n",
      "Perfusion Index of ./ppg_GREEN\\green3_AR.csv : 169.3737216465913\n",
      "Perfusion Index of ./ppg_GREEN\\green4_AR.csv : 619.9279339001287\n",
      "Perfusion Index of ./ppg_GREEN\\green5_AR.csv : 310.99419639327994\n",
      "---------------------------------------------------\n",
      "Average Perfusion Index of Trials using Bandpass is : 429.9926398297845\n"
     ]
    }
   ],
   "source": [
    "# Average Perfusion Index of Trials\n",
    "avgPerfusion = 0\n",
    "numOfFiles = 0\n",
    "\n",
    "print(\"BANDPASS\\n\")\n",
    "\n",
    "for file in glob(greenPath + '*.csv'):\n",
    "    numOfFiles += 1\n",
    "    ppg_data = pd.read_csv(file)\n",
    "    noisy_ppgOne = ppg_data[\"PPG1\"].values\n",
    "    # Apply BandPass Filter to noisy ECG Signal\n",
    "    filtered_ppg_1 = signal.filtfilt(b, a, noisy_ppgOne)\n",
    "\n",
    "    # Baseline Correction\n",
    "    baseline_ppg_1 = signal.medfilt(filtered_ppg_1, kernel_size=51)  # Apply a median filter as a baseline\n",
    "    corrected_ppg_1 = filtered_ppg_1 - baseline_ppg_1\n",
    "\n",
    "    # Smoothing\n",
    "    smoothed_ppg_1 = signal.savgol_filter(corrected_ppg_1, window_length=51, polyorder=3)\n",
    "\n",
    "    # Find peaks and troughs-------------------------------------------------------------------------------\n",
    "    peaks, _ = find_peaks(smoothed_ppg_1)  # Adjust height threshold as needed\n",
    "    troughs, _ = find_peaks(-smoothed_ppg_1)  # Detect troughs by inverting signal\n",
    "\n",
    "    # Calculate Pulse Amplitude\n",
    "    if len(peaks) > 0 and len(troughs) > 0:\n",
    "        pulse_amplitude = smoothed_ppg_1[peaks].mean() - smoothed_ppg_1[troughs].mean()\n",
    "    else:\n",
    "        pulse_amplitude = np.nan\n",
    "\n",
    "    # Calculate Baseline Amplitude\n",
    "    baseline_amplitude = smoothed_ppg_1.mean()\n",
    "\n",
    "    # Calculate Perfusion Index\n",
    "    if not np.isnan(pulse_amplitude) and not np.isnan(baseline_amplitude):\n",
    "        perfusion_index = (pulse_amplitude / baseline_amplitude) * 100\n",
    "    else:\n",
    "        perfusion_index = np.nan\n",
    "\n",
    "    # Add to avg\n",
    "    avgPerfusion += perfusion_index\n",
    "\n",
    "    # Print the AC Component for trial\n",
    "    print(f'Perfusion Index of {file} : {perfusion_index}')\n",
    "\n",
    "print('---------------------------------------------------')\n",
    "print(f'Average Perfusion Index of Trials using Bandpass is : {avgPerfusion / numOfFiles}')"
   ]
  },
  {
   "cell_type": "code",
   "execution_count": 59,
   "metadata": {},
   "outputs": [],
   "source": [
    "for file in glob(greenPath + '*.csv'):\n",
    "    numOfFiles += 1\n",
    "    ppg_data = pd.read_csv(file)\n",
    "    noisy_ppg_1 = ppg_data[\"PPG1\"].values\n",
    "    # Apply BandPass Filter to noisy ECG Signal\n",
    "    filtered_ppg_1 = signal.filtfilt(b, a, noisy_ppgOne)\n",
    "\n",
    "    # Baseline Correction\n",
    "    baseline_ppg_1 = signal.medfilt(filtered_ppg_1, kernel_size=51)  # Apply a median filter as a baseline\n",
    "    corrected_ppg_1 = filtered_ppg_1 - baseline_ppg_1\n",
    "\n",
    "    # Smoothing\n",
    "    smoothed_ppg_1 = signal.savgol_filter(corrected_ppg_1, window_length=51, polyorder=3)\n",
    "    # Create a figure with subplots\n",
    "    #fig, axs = plt.subplots(3, 1, figsize=(12, 10))\n",
    "\n",
    "    # PPG 1\n",
    "    # Plot original and filtered signals\n",
    "    # axs[0].plot(ppg_data[\"VAL\"], noisy_ppg_1, color='blue', label='Original PPG1')\n",
    "    # axs[0].set_title('BANDPASS Original - PPG1 Signal')\n",
    "    # axs[0].set_xlabel('Val (s)')\n",
    "    # axs[0].set_ylabel('Amplitude')\n",
    "    # axs[0].grid(True)\n",
    "\n",
    "\n",
    "    # axs[1].plot(ppg_data[\"VAL\"], filtered_ppg_1, color='green', label='Filtered PPG1')\n",
    "    # axs[1].set_xlabel('Val (s)')\n",
    "    # axs[1].set_ylabel('Amplitude')\n",
    "    # axs[1].set_title('BANDPASS filtered - PPG1 Signal')\n",
    "    # axs[1].grid(True)\n",
    "\n",
    "    # # Plot original and filtered signals\n",
    "    # axs[2].plot(ppg_data[\"VAL\"], smoothed_ppg_1, color='purple', label='Corrected & Smoothed PPG1')\n",
    "    # axs[2].set_title('BANDPASS Corrected & Smoothed - PPG1 Signal')\n",
    "    # axs[2].set_xlabel('Val (s)')\n",
    "    # axs[2].set_ylabel('Amplitude')\n",
    "    # axs[2].grid(True)\n",
    "\n",
    "    # Show the plot\n",
    "    # plt.tight_layout()  # Adjust subplots to prevent overlap\n",
    "    # plt.show()\n"
   ]
  },
  {
   "attachments": {},
   "cell_type": "markdown",
   "metadata": {},
   "source": [
    "Highpass Filter"
   ]
  },
  {
   "cell_type": "code",
   "execution_count": 60,
   "metadata": {},
   "outputs": [],
   "source": [
    "# HighPass Filter Parameters\n",
    "\n",
    "sampling_freq = 100 # Hz\n",
    "\n",
    "cutoff = 0.5                         # Cutoff Frequency in Hz\n",
    "nyquist_freq = 0.5 * sampling_freq   # Nyquist frequency in Hz\n",
    "order = 4                            # Filter order\n",
    "\n",
    "# Design Bandpass Filter\n",
    "b, a = signal.butter(order, cutoff / nyquist_freq, btype='high')"
   ]
  },
  {
   "cell_type": "code",
   "execution_count": 61,
   "metadata": {},
   "outputs": [
    {
     "name": "stdout",
     "output_type": "stream",
     "text": [
      "HIGHPASS\n",
      "\n",
      "AC Component of ./ppg_GREEN\\green1_AR.csv : 7.733767869140594\n",
      "AC Component of ./ppg_GREEN\\green2_AR.csv : 19.87857940833772\n",
      "AC Component of ./ppg_GREEN\\green3_AR.csv : 21.372674476544386\n",
      "AC Component of ./ppg_GREEN\\green4_AR.csv : 55.17601392305688\n",
      "AC Component of ./ppg_GREEN\\green5_AR.csv : 45.3889045419254\n",
      "---------------------------------------------------\n",
      "Average AC Component of Trials using HighPass is : 29.909988043800997\n"
     ]
    }
   ],
   "source": [
    "# Average AC Component of Trials\n",
    "avgAC = 0\n",
    "numOfFiles = 0\n",
    "\n",
    "print(\"HIGHPASS\\n\")\n",
    "\n",
    "for file in glob(greenPath + '*.csv'):\n",
    "    numOfFiles += 1\n",
    "    ppg_data = pd.read_csv(file)\n",
    "    noisy_ppgOne = ppg_data[\"PPG1\"].values\n",
    "    # Apply BandPass Filter to noisy ECG Signal\n",
    "    filtered_ppg_1 = signal.filtfilt(b, a, noisy_ppgOne)\n",
    "\n",
    "    # Baseline Correction\n",
    "    baseline_ppg_1 = signal.medfilt(filtered_ppg_1, kernel_size=51)  # Apply a median filter as a baseline\n",
    "    corrected_ppg_1 = filtered_ppg_1 - baseline_ppg_1\n",
    "\n",
    "    # Smoothing\n",
    "    smoothed_ppg_1 = signal.savgol_filter(corrected_ppg_1, window_length=51, polyorder=3)\n",
    "\n",
    "    # Remove the DC Component\n",
    "    dc_component = np.mean(smoothed_ppg_1)\n",
    "    ppg_ac= smoothed_ppg_1 - dc_component\n",
    "\n",
    "    # Calculate the AC Component\n",
    "    peaks, _ = find_peaks(ppg_ac)  # Adjust height threshold as needed\n",
    "    troughs, _ = find_peaks(-ppg_ac)  # Detect troughs by inverting signal\n",
    "    ac_component = ppg_ac[peaks].mean() - ppg_ac[troughs].mean()\n",
    "\n",
    "    # Add to avg\n",
    "    avgAC += ac_component\n",
    "\n",
    "    # Print the AC Component for trial\n",
    "    print(f'AC Component of {file} : {ac_component}')\n",
    "\n",
    "print('---------------------------------------------------')\n",
    "print(f'Average AC Component of Trials using HighPass is : {avgAC / numOfFiles}')\n"
   ]
  },
  {
   "cell_type": "code",
   "execution_count": 62,
   "metadata": {},
   "outputs": [
    {
     "name": "stdout",
     "output_type": "stream",
     "text": [
      "HIGHPASS\n",
      "\n",
      "Perfusion Index of ./ppg_GREEN\\green1_AR.csv : 538.605128061985\n",
      "Perfusion Index of ./ppg_GREEN\\green2_AR.csv : 373.0811133115464\n",
      "Perfusion Index of ./ppg_GREEN\\green3_AR.csv : 162.39730692861755\n",
      "Perfusion Index of ./ppg_GREEN\\green4_AR.csv : 530.005898154363\n",
      "Perfusion Index of ./ppg_GREEN\\green5_AR.csv : 285.95255519279965\n",
      "---------------------------------------------------\n",
      "Average Perfusion Index of Trials using HighPass is : 378.00840032986235\n"
     ]
    }
   ],
   "source": [
    "# Average Perfusion Index of Trials\n",
    "avgPerfusion = 0\n",
    "numOfFiles = 0\n",
    "\n",
    "print(\"HIGHPASS\\n\")\n",
    "\n",
    "for file in glob(greenPath + '*.csv'):\n",
    "    numOfFiles += 1\n",
    "    ppg_data = pd.read_csv(file)\n",
    "    noisy_ppgOne = ppg_data[\"PPG1\"].values\n",
    "    # Apply BandPass Filter to noisy ECG Signal\n",
    "    filtered_ppg_1 = signal.filtfilt(b, a, noisy_ppgOne)\n",
    "\n",
    "    # Baseline Correction\n",
    "    baseline_ppg_1 = signal.medfilt(filtered_ppg_1, kernel_size=51)  # Apply a median filter as a baseline\n",
    "    corrected_ppg_1 = filtered_ppg_1 - baseline_ppg_1\n",
    "\n",
    "    # Smoothing\n",
    "    smoothed_ppg_1 = signal.savgol_filter(corrected_ppg_1, window_length=51, polyorder=3)\n",
    "\n",
    "    # Find peaks and troughs-------------------------------------------------------------------------------\n",
    "    peaks, _ = find_peaks(smoothed_ppg_1)  # Adjust height threshold as needed\n",
    "    troughs, _ = find_peaks(-smoothed_ppg_1)  # Detect troughs by inverting signal\n",
    "\n",
    "    # Calculate Pulse Amplitude\n",
    "    if len(peaks) > 0 and len(troughs) > 0:\n",
    "        pulse_amplitude = smoothed_ppg_1[peaks].mean() - smoothed_ppg_1[troughs].mean()\n",
    "    else:\n",
    "        pulse_amplitude = np.nan\n",
    "\n",
    "    # Calculate Baseline Amplitude\n",
    "    baseline_amplitude = smoothed_ppg_1.mean()\n",
    "\n",
    "    # Calculate Perfusion Index\n",
    "    if not np.isnan(pulse_amplitude) and not np.isnan(baseline_amplitude):\n",
    "        perfusion_index = (pulse_amplitude / baseline_amplitude) * 100\n",
    "    else:\n",
    "        perfusion_index = np.nan\n",
    "\n",
    "    # Add to avg\n",
    "    avgPerfusion += perfusion_index\n",
    "\n",
    "    # Print the AC Component for trial\n",
    "    print(f'Perfusion Index of {file} : {perfusion_index}')\n",
    "\n",
    "print('---------------------------------------------------')\n",
    "print(f'Average Perfusion Index of Trials using HighPass is : {avgPerfusion / numOfFiles}')"
   ]
  },
  {
   "cell_type": "code",
   "execution_count": null,
   "metadata": {},
   "outputs": [],
   "source": []
  }
 ],
 "metadata": {
  "kernelspec": {
   "display_name": "Python 3",
   "language": "python",
   "name": "python3"
  },
  "language_info": {
   "codemirror_mode": {
    "name": "ipython",
    "version": 3
   },
   "file_extension": ".py",
   "mimetype": "text/x-python",
   "name": "python",
   "nbconvert_exporter": "python",
   "pygments_lexer": "ipython3",
   "version": "3.11.8"
  },
  "orig_nbformat": 4
 },
 "nbformat": 4,
 "nbformat_minor": 2
}
