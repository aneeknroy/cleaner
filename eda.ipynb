{
 "cells": [
  {
   "cell_type": "code",
   "execution_count": 2,
   "metadata": {},
   "outputs": [],
   "source": [
    "#Load the required libraries\n",
    "import pandas as pd\n",
    "import numpy as np\n",
    "import seaborn as sns\n",
    "import matplotlib.pyplot as plt"
   ]
  },
  {
   "cell_type": "code",
   "execution_count": 3,
   "metadata": {},
   "outputs": [],
   "source": [
    "#Load the data\n",
    "df = pd.read_csv('ppg_GREEN/green1_AR.csv')"
   ]
  },
  {
   "cell_type": "code",
   "execution_count": 4,
   "metadata": {},
   "outputs": [
    {
     "data": {
      "text/plain": [
       "(1000, 5)"
      ]
     },
     "execution_count": 4,
     "metadata": {},
     "output_type": "execute_result"
    }
   ],
   "source": [
    "df.shape"
   ]
  },
  {
   "cell_type": "code",
   "execution_count": 6,
   "metadata": {},
   "outputs": [
    {
     "data": {
      "text/html": [
       "<div>\n",
       "<style scoped>\n",
       "    .dataframe tbody tr th:only-of-type {\n",
       "        vertical-align: middle;\n",
       "    }\n",
       "\n",
       "    .dataframe tbody tr th {\n",
       "        vertical-align: top;\n",
       "    }\n",
       "\n",
       "    .dataframe thead th {\n",
       "        text-align: right;\n",
       "    }\n",
       "</style>\n",
       "<table border=\"1\" class=\"dataframe\">\n",
       "  <thead>\n",
       "    <tr style=\"text-align: right;\">\n",
       "      <th></th>\n",
       "      <th>VAL</th>\n",
       "      <th>PPG1</th>\n",
       "      <th>PPG2</th>\n",
       "      <th>BIOZ1</th>\n",
       "      <th>BIOZ2</th>\n",
       "    </tr>\n",
       "  </thead>\n",
       "  <tbody>\n",
       "    <tr>\n",
       "      <th>0</th>\n",
       "      <td>0</td>\n",
       "      <td>1775</td>\n",
       "      <td>1185</td>\n",
       "      <td>34</td>\n",
       "      <td>26</td>\n",
       "    </tr>\n",
       "    <tr>\n",
       "      <th>1</th>\n",
       "      <td>1</td>\n",
       "      <td>1783</td>\n",
       "      <td>1184</td>\n",
       "      <td>34</td>\n",
       "      <td>27</td>\n",
       "    </tr>\n",
       "    <tr>\n",
       "      <th>2</th>\n",
       "      <td>2</td>\n",
       "      <td>1779</td>\n",
       "      <td>1185</td>\n",
       "      <td>34</td>\n",
       "      <td>28</td>\n",
       "    </tr>\n",
       "    <tr>\n",
       "      <th>3</th>\n",
       "      <td>3</td>\n",
       "      <td>1775</td>\n",
       "      <td>1186</td>\n",
       "      <td>33</td>\n",
       "      <td>27</td>\n",
       "    </tr>\n",
       "    <tr>\n",
       "      <th>4</th>\n",
       "      <td>4</td>\n",
       "      <td>1774</td>\n",
       "      <td>1185</td>\n",
       "      <td>34</td>\n",
       "      <td>29</td>\n",
       "    </tr>\n",
       "    <tr>\n",
       "      <th>5</th>\n",
       "      <td>5</td>\n",
       "      <td>1778</td>\n",
       "      <td>1183</td>\n",
       "      <td>34</td>\n",
       "      <td>29</td>\n",
       "    </tr>\n",
       "    <tr>\n",
       "      <th>6</th>\n",
       "      <td>6</td>\n",
       "      <td>1778</td>\n",
       "      <td>1183</td>\n",
       "      <td>34</td>\n",
       "      <td>30</td>\n",
       "    </tr>\n",
       "    <tr>\n",
       "      <th>7</th>\n",
       "      <td>7</td>\n",
       "      <td>1770</td>\n",
       "      <td>1184</td>\n",
       "      <td>34</td>\n",
       "      <td>29</td>\n",
       "    </tr>\n",
       "    <tr>\n",
       "      <th>8</th>\n",
       "      <td>8</td>\n",
       "      <td>1772</td>\n",
       "      <td>1185</td>\n",
       "      <td>33</td>\n",
       "      <td>29</td>\n",
       "    </tr>\n",
       "    <tr>\n",
       "      <th>9</th>\n",
       "      <td>9</td>\n",
       "      <td>1773</td>\n",
       "      <td>1183</td>\n",
       "      <td>32</td>\n",
       "      <td>29</td>\n",
       "    </tr>\n",
       "  </tbody>\n",
       "</table>\n",
       "</div>"
      ],
      "text/plain": [
       "   VAL  PPG1  PPG2  BIOZ1  BIOZ2\n",
       "0    0  1775  1185     34     26\n",
       "1    1  1783  1184     34     27\n",
       "2    2  1779  1185     34     28\n",
       "3    3  1775  1186     33     27\n",
       "4    4  1774  1185     34     29\n",
       "5    5  1778  1183     34     29\n",
       "6    6  1778  1183     34     30\n",
       "7    7  1770  1184     34     29\n",
       "8    8  1772  1185     33     29\n",
       "9    9  1773  1183     32     29"
      ]
     },
     "execution_count": 6,
     "metadata": {},
     "output_type": "execute_result"
    }
   ],
   "source": [
    "df.head(10)"
   ]
  },
  {
   "cell_type": "code",
   "execution_count": 7,
   "metadata": {},
   "outputs": [
    {
     "name": "stdout",
     "output_type": "stream",
     "text": [
      "<class 'pandas.core.frame.DataFrame'>\n",
      "RangeIndex: 1000 entries, 0 to 999\n",
      "Data columns (total 5 columns):\n",
      " #   Column  Non-Null Count  Dtype\n",
      "---  ------  --------------  -----\n",
      " 0   VAL     1000 non-null   int64\n",
      " 1   PPG1    1000 non-null   int64\n",
      " 2   PPG2    1000 non-null   int64\n",
      " 3   BIOZ1   1000 non-null   int64\n",
      " 4   BIOZ2   1000 non-null   int64\n",
      "dtypes: int64(5)\n",
      "memory usage: 39.2 KB\n"
     ]
    }
   ],
   "source": [
    "df.info()"
   ]
  },
  {
   "cell_type": "code",
   "execution_count": 8,
   "metadata": {},
   "outputs": [
    {
     "data": {
      "text/html": [
       "<div>\n",
       "<style scoped>\n",
       "    .dataframe tbody tr th:only-of-type {\n",
       "        vertical-align: middle;\n",
       "    }\n",
       "\n",
       "    .dataframe tbody tr th {\n",
       "        vertical-align: top;\n",
       "    }\n",
       "\n",
       "    .dataframe thead th {\n",
       "        text-align: right;\n",
       "    }\n",
       "</style>\n",
       "<table border=\"1\" class=\"dataframe\">\n",
       "  <thead>\n",
       "    <tr style=\"text-align: right;\">\n",
       "      <th></th>\n",
       "      <th>VAL</th>\n",
       "      <th>PPG1</th>\n",
       "      <th>PPG2</th>\n",
       "      <th>BIOZ1</th>\n",
       "      <th>BIOZ2</th>\n",
       "    </tr>\n",
       "  </thead>\n",
       "  <tbody>\n",
       "    <tr>\n",
       "      <th>count</th>\n",
       "      <td>1000.000000</td>\n",
       "      <td>1000.000000</td>\n",
       "      <td>1000.000000</td>\n",
       "      <td>1000.000000</td>\n",
       "      <td>1000.000000</td>\n",
       "    </tr>\n",
       "    <tr>\n",
       "      <th>mean</th>\n",
       "      <td>499.500000</td>\n",
       "      <td>1836.396000</td>\n",
       "      <td>1185.675000</td>\n",
       "      <td>33.628000</td>\n",
       "      <td>28.729000</td>\n",
       "    </tr>\n",
       "    <tr>\n",
       "      <th>std</th>\n",
       "      <td>288.819436</td>\n",
       "      <td>34.512872</td>\n",
       "      <td>1.173351</td>\n",
       "      <td>0.907987</td>\n",
       "      <td>1.336917</td>\n",
       "    </tr>\n",
       "    <tr>\n",
       "      <th>min</th>\n",
       "      <td>0.000000</td>\n",
       "      <td>1769.000000</td>\n",
       "      <td>1182.000000</td>\n",
       "      <td>31.000000</td>\n",
       "      <td>23.000000</td>\n",
       "    </tr>\n",
       "    <tr>\n",
       "      <th>25%</th>\n",
       "      <td>249.750000</td>\n",
       "      <td>1807.000000</td>\n",
       "      <td>1185.000000</td>\n",
       "      <td>33.000000</td>\n",
       "      <td>28.000000</td>\n",
       "    </tr>\n",
       "    <tr>\n",
       "      <th>50%</th>\n",
       "      <td>499.500000</td>\n",
       "      <td>1833.000000</td>\n",
       "      <td>1186.000000</td>\n",
       "      <td>34.000000</td>\n",
       "      <td>29.000000</td>\n",
       "    </tr>\n",
       "    <tr>\n",
       "      <th>75%</th>\n",
       "      <td>749.250000</td>\n",
       "      <td>1865.250000</td>\n",
       "      <td>1186.000000</td>\n",
       "      <td>34.000000</td>\n",
       "      <td>30.000000</td>\n",
       "    </tr>\n",
       "    <tr>\n",
       "      <th>max</th>\n",
       "      <td>999.000000</td>\n",
       "      <td>1924.000000</td>\n",
       "      <td>1189.000000</td>\n",
       "      <td>36.000000</td>\n",
       "      <td>32.000000</td>\n",
       "    </tr>\n",
       "  </tbody>\n",
       "</table>\n",
       "</div>"
      ],
      "text/plain": [
       "               VAL         PPG1         PPG2        BIOZ1        BIOZ2\n",
       "count  1000.000000  1000.000000  1000.000000  1000.000000  1000.000000\n",
       "mean    499.500000  1836.396000  1185.675000    33.628000    28.729000\n",
       "std     288.819436    34.512872     1.173351     0.907987     1.336917\n",
       "min       0.000000  1769.000000  1182.000000    31.000000    23.000000\n",
       "25%     249.750000  1807.000000  1185.000000    33.000000    28.000000\n",
       "50%     499.500000  1833.000000  1186.000000    34.000000    29.000000\n",
       "75%     749.250000  1865.250000  1186.000000    34.000000    30.000000\n",
       "max     999.000000  1924.000000  1189.000000    36.000000    32.000000"
      ]
     },
     "execution_count": 8,
     "metadata": {},
     "output_type": "execute_result"
    }
   ],
   "source": [
    "df.describe()"
   ]
  },
  {
   "cell_type": "code",
   "execution_count": 10,
   "metadata": {},
   "outputs": [
    {
     "data": {
      "text/plain": [
       "Index(['VAL', 'PPG1', 'PPG2', 'BIOZ1', 'BIOZ2'], dtype='object')"
      ]
     },
     "execution_count": 10,
     "metadata": {},
     "output_type": "execute_result"
    }
   ],
   "source": [
    "df.columns"
   ]
  },
  {
   "cell_type": "code",
   "execution_count": 12,
   "metadata": {},
   "outputs": [
    {
     "data": {
      "text/plain": [
       "VAL      0\n",
       "PPG1     0\n",
       "PPG2     0\n",
       "BIOZ1    0\n",
       "BIOZ2    0\n",
       "dtype: int64"
      ]
     },
     "execution_count": 12,
     "metadata": {},
     "output_type": "execute_result"
    }
   ],
   "source": [
    "df.isnull().sum()"
   ]
  },
  {
   "cell_type": "code",
   "execution_count": 14,
   "metadata": {},
   "outputs": [
    {
     "data": {
      "text/plain": [
       "<Axes: >"
      ]
     },
     "execution_count": 14,
     "metadata": {},
     "output_type": "execute_result"
    },
    {
     "data": {
      "image/png": "[encoded data removed]",
      "text/plain": [
       "<Figure size 640x480 with 1 Axes>"
      ]
     },
     "metadata": {},
     "output_type": "display_data"
    }
   ],
   "source": [
    "df[[\"PPG1\"]].boxplot()"
   ]
  },
  {
   "cell_type": "code",
   "execution_count": 16,
   "metadata": {},
   "outputs": [
    {
     "data": {
      "text/plain": [
       "<Axes: >"
      ]
     },
     "execution_count": 16,
     "metadata": {},
     "output_type": "execute_result"
    }
   ],
   "source": [
    "df[[\"PPG2\"]].boxplot()"
   ]
  },
  {
   "cell_type": "code",
   "execution_count": 17,
   "metadata": {},
   "outputs": [
    {
     "data": {
      "text/html": [
       "<div>\n",
       "<style scoped>\n",
       "    .dataframe tbody tr th:only-of-type {\n",
       "        vertical-align: middle;\n",
       "    }\n",
       "\n",
       "    .dataframe tbody tr th {\n",
       "        vertical-align: top;\n",
       "    }\n",
       "\n",
       "    .dataframe thead th {\n",
       "        text-align: right;\n",
       "    }\n",
       "</style>\n",
       "<table border=\"1\" class=\"dataframe\">\n",
       "  <thead>\n",
       "    <tr style=\"text-align: right;\">\n",
       "      <th></th>\n",
       "      <th>VAL</th>\n",
       "      <th>PPG1</th>\n",
       "      <th>PPG2</th>\n",
       "      <th>BIOZ1</th>\n",
       "      <th>BIOZ2</th>\n",
       "    </tr>\n",
       "  </thead>\n",
       "  <tbody>\n",
       "    <tr>\n",
       "      <th>VAL</th>\n",
       "      <td>1.000000</td>\n",
       "      <td>0.195101</td>\n",
       "      <td>0.298562</td>\n",
       "      <td>0.038178</td>\n",
       "      <td>0.157392</td>\n",
       "    </tr>\n",
       "    <tr>\n",
       "      <th>PPG1</th>\n",
       "      <td>0.195101</td>\n",
       "      <td>1.000000</td>\n",
       "      <td>0.525339</td>\n",
       "      <td>-0.010691</td>\n",
       "      <td>0.284747</td>\n",
       "    </tr>\n",
       "    <tr>\n",
       "      <th>PPG2</th>\n",
       "      <td>0.298562</td>\n",
       "      <td>0.525339</td>\n",
       "      <td>1.000000</td>\n",
       "      <td>-0.010241</td>\n",
       "      <td>0.215637</td>\n",
       "    </tr>\n",
       "    <tr>\n",
       "      <th>BIOZ1</th>\n",
       "      <td>0.038178</td>\n",
       "      <td>-0.010691</td>\n",
       "      <td>-0.010241</td>\n",
       "      <td>1.000000</td>\n",
       "      <td>-0.049322</td>\n",
       "    </tr>\n",
       "    <tr>\n",
       "      <th>BIOZ2</th>\n",
       "      <td>0.157392</td>\n",
       "      <td>0.284747</td>\n",
       "      <td>0.215637</td>\n",
       "      <td>-0.049322</td>\n",
       "      <td>1.000000</td>\n",
       "    </tr>\n",
       "  </tbody>\n",
       "</table>\n",
       "</div>"
      ],
      "text/plain": [
       "            VAL      PPG1      PPG2     BIOZ1     BIOZ2\n",
       "VAL    1.000000  0.195101  0.298562  0.038178  0.157392\n",
       "PPG1   0.195101  1.000000  0.525339 -0.010691  0.284747\n",
       "PPG2   0.298562  0.525339  1.000000 -0.010241  0.215637\n",
       "BIOZ1  0.038178 -0.010691 -0.010241  1.000000 -0.049322\n",
       "BIOZ2  0.157392  0.284747  0.215637 -0.049322  1.000000"
      ]
     },
     "execution_count": 17,
     "metadata": {},
     "output_type": "execute_result"
    }
   ],
   "source": [
    "df.corr()"
   ]
  },
  {
   "cell_type": "code",
   "execution_count": null,
   "metadata": {},
   "outputs": [],
   "source": [
    "sns.heatm"
   ]
  }
 ],
 "metadata": {
  "kernelspec": {
   "display_name": "Python 3",
   "language": "python",
   "name": "python3"
  },
  "language_info": {
   "codemirror_mode": {
    "name": "ipython",
    "version": 3
   },
   "file_extension": ".py",
   "mimetype": "text/x-python",
   "name": "python",
   "nbconvert_exporter": "python",
   "pygments_lexer": "ipython3",
   "version": "3.11.8"
  },
  "orig_nbformat": 4
 },
 "nbformat": 4,
 "nbformat_minor": 2
}
