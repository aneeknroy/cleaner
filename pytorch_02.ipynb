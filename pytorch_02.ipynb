{
 "cells": [
  {
   "attachments": {},
   "cell_type": "markdown",
   "metadata": {},
   "source": [
    "02. PyTorch Neural Network Classification"
   ]
  },
  {
   "attachments": {},
   "cell_type": "markdown",
   "metadata": {},
   "source": [
    "# What is a classification problem?\n",
    "\n",
    "- a classification problem involves predicting whether something is one thing or another\n",
    "\n",
    "- Problem type\n",
    "    - What is it?\n",
    "    - Example <br>\n",
    "\n",
    "\n",
    "- Binary classification\n",
    "    - Target can be one of two options, e.g. yes or no\n",
    "    - Predict whether or not someone has heart disease based on their health parameters. <br>\n",
    "\n",
    "\n",
    "- Multi-class classification\n",
    "    - Target can be one of more than two options\n",
    "    - Decide whether a photo of is of food, a person or a dog.\n",
    "\n",
    "    \n",
    "- Multi-label classification\n",
    "    - Target can be assigned more than one option\n",
    "    - Predict what categories should be assigned to a Wikipedia article (e.g. mathematics, science & philosohpy)."
   ]
  },
  {
   "attachments": {},
   "cell_type": "markdown",
   "metadata": {},
   "source": []
  }
 ],
 "metadata": {
  "kernelspec": {
   "display_name": "Python 3",
   "language": "python",
   "name": "python3"
  },
  "language_info": {
   "codemirror_mode": {
    "name": "ipython",
    "version": 3
   },
   "file_extension": ".py",
   "mimetype": "text/x-python",
   "name": "python",
   "nbconvert_exporter": "python",
   "pygments_lexer": "ipython3",
   "version": "3.11.8"
  },
  "orig_nbformat": 4
 },
 "nbformat": 4,
 "nbformat_minor": 2
}
